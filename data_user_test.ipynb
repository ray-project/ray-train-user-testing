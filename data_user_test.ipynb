{
 "cells": [
  {
   "attachments": {},
   "cell_type": "markdown",
   "metadata": {},
   "source": [
    "# Ray Data User Testing\n",
    "\n",
    "In this notebook, you will learn how to use Ray Data for distributed model training. Ray Data is used for data loading for model training. Assume we already have a runnable script, use Ray Data APIs to scale up your existing data loading workload to multiple nodes.\n",
    "\n",
    "Use the code from one of the examples:\n",
    "\n",
    "[TBD]\n",
    "\n",
    "to finish the following 3 tasks:\n",
    "\n",
    "- Task 1: Read images from S3\n",
    "- Task 2: Preprocess images\n",
    "- Task 3: Run distributed training with 4 GPU workers\n",
    "\n",
    "You can refer to the Ray Documentation for user guides and APIs: https://docs.ray.io/en/master/index.html\n"
   ]
  },
  {
   "attachments": {},
   "cell_type": "markdown",
   "metadata": {},
   "source": [
    "## Task 1: Read images from S3\n",
    "\n",
    "In this section, you will read images from AWS S3 (https://aws.amazon.com/s3/), and calculate some basic statistics of your data. Please refer to the given code under src/examples folder.\n",
    "\n",
    "Success Criteria for this section:\n",
    "- Successfully create a Ray Dataset to read images from S3\n",
    "- Successfully inspect metadata of Ray Dataset to get number of images"
   ]
  },
  {
   "cell_type": "code",
   "execution_count": null,
   "metadata": {},
   "outputs": [],
   "source": [
    "# Your Code here:\n"
   ]
  },
  {
   "attachments": {},
   "cell_type": "markdown",
   "metadata": {},
   "source": [
    "Please fill in the blanks below:\n",
    "\n",
    "|                     |                      |\n",
    "|---------------------|----------------------|\n",
    "| Number of images    | ___x___              |\n",
    "| Number of labels    | ___x___              |"
   ]
  },
  {
   "attachments": {},
   "cell_type": "markdown",
   "metadata": {},
   "source": [
    "## Task 2: Preprocess images\n",
    "\n",
    "In this section, we'll preprocess images into desired size. Please refer to the given code under ([link](https://github.com/ray-project/ray/blob/master/release/nightly_tests/dataset/image_loader_microbenchmark.py#L161-L187)) for how to preprocess a single image. You are expected to use the Ray Data API to parallelize the preprocessing logic among all images.\n",
    "\n",
    "Success Criteria for this section:\n",
    "- Successfully use correct Ray Data API to run preprocessing for all images\n"
   ]
  },
  {
   "cell_type": "code",
   "execution_count": null,
   "metadata": {},
   "outputs": [],
   "source": [
    "# Estimated Difficulty Level (1-7) [1=very easy 7=very difficult]:"
   ]
  },
  {
   "cell_type": "code",
   "execution_count": null,
   "metadata": {},
   "outputs": [],
   "source": [
    "# Your code here\n",
    "\n",
    "\n",
    "\n",
    "\n"
   ]
  },
  {
   "cell_type": "code",
   "execution_count": null,
   "metadata": {},
   "outputs": [],
   "source": [
    "# Actaul Difficulty Level (1-7) [1=very easy 7=very difficult]:"
   ]
  },
  {
   "attachments": {},
   "cell_type": "markdown",
   "metadata": {},
   "source": [
    "## Task 3: Run distributed training with 4 GPU workers\n",
    "\n",
    "In this section, let's do distributed model training for preprocessed images. To do distributed model training, you are given a script with everything working, except the part of data loading is missing. You are expected to fill in the data loading code and start training!\n",
    "\n",
    "You may use Ray Dashboard to check GPU utilization, training status, and other system metrics.\n",
    "\n",
    "Success Criteria for this section:\n",
    "- Successfully use correct Ray Data API to get shard of images\n",
    "- Successfully use correct Ray Data API to iterate the images and pass Torch Tensor to model\n"
   ]
  },
  {
   "cell_type": "code",
   "execution_count": null,
   "metadata": {},
   "outputs": [],
   "source": [
    "# Estimated Difficulty Level (1-7) [1=very easy 7=very difficult]:"
   ]
  },
  {
   "cell_type": "code",
   "execution_count": null,
   "metadata": {},
   "outputs": [],
   "source": [
    "# Your code here\n",
    "\n",
    "\n",
    "\n",
    "\n",
    "\n"
   ]
  },
  {
   "attachments": {},
   "cell_type": "markdown",
   "metadata": {},
   "source": [
    "Please fill in the blanks below:\n",
    "\n",
    "|                         |                      |\n",
    "|-------------------------|----------------------|\n",
    "| Num iterations per epoch| ___x___ (iters/epoch) |\n",
    "| Training speed          | ___x___ (s/iter)     |"
   ]
  }
 ],
 "metadata": {
  "kernelspec": {
   "display_name": "Python 3",
   "language": "python",
   "name": "python3"
  },
  "language_info": {
   "name": "python",
   "version": "3.11.0 (main, Oct 25 2022, 14:13:24) [Clang 14.0.0 (clang-1400.0.29.202)]"
  },
  "orig_nbformat": 4,
  "vscode": {
   "interpreter": {
    "hash": "1a1af0ee75eeea9e2e1ee996c87e7a2b11a0bebd85af04bb136d915cefc0abce"
   }
  }
 },
 "nbformat": 4,
 "nbformat_minor": 2
}
